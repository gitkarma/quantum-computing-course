{
 "cells": [
  {
   "cell_type": "markdown",
   "metadata": {
    "deletable": false,
    "editable": false
   },
   "source": [
    "# Assignment 4\n",
    "Welcome to the fourth and final programming assignment for the course. This assignments will help to familiarise you with the B92 QKD protocol while revisiting the topics discussed in this week's lectures. \n",
    "\n",
    "### Submission Guidelines\n",
    "For final submission, and to ensure that you have no errors in your solution, please use the 'Restart and Run All' option availble in the Kernel menu at the top of the page. \n",
    "To submit your solution, run the completed notebook and attach the solved notebook (with results visible) as a .ipynb file using the 'Add or Create' option under the 'Your Work' heading on the assignment page in Google Classroom. \n",
    "\n",
    "This assignment is sensetive to the versions of certain libraries. The cell below checks if those libraries are available. The recommended way to check this assignment is to use IBM Quantum Experience. If that option is not available to you, please make sure you are a version of `numpy` newer than `1.19` and a version of `qiskit` newer than `0.20`. Earlier version will not behave correctly.  As before, the notebooks contain some checks to test your solutions. Please know that these are very basic and do not guarantee that your solution is correct as there may be some edge-cases that the checks miss. If you are confident in your solution, please submit it and it will be evaluated and graded after the deadline. Please contact us via Google classroom for any queries/concerns regarding this. \n"
   ]
  },
  {
   "cell_type": "code",
   "execution_count": null,
   "metadata": {
    "deletable": false,
    "editable": false
   },
   "outputs": [],
   "source": [
    "# %pip install numpy==1.19 qiskit==0.20 pylatexenc # Please uncomment this line if you are running on Google Colab or uncomment and run once if you are running locally.\n",
    "%matplotlib inline\n",
    "import numpy as np\n",
    "import matplotlib.pyplot as plt\n",
    "# Importing standard Qiskit libraries\n",
    "from qiskit import QuantumCircuit, execute\n",
    "from qiskit.providers.aer import QasmSimulator\n",
    "from qiskit.visualization import *\n",
    "import qiskit\n",
    "from packaging.version import parse as parse_version\n",
    "assert parse_version(np.__version__) >= parse_version('1.19'),  \"Please install the correct version of numpy using the command 'pip install --upgrade numpy==1.19'\"\n",
    "assert parse_version(qiskit.__qiskit_version__['qiskit-terra']) >= parse_version('0.15'), \"Please make sure you have the correct version of Qiskit installed or run this on IBM Quantum Experience\" \n",
    "assert parse_version(qiskit.__qiskit_version__['qiskit-aer']) >= parse_version('0.6'), \"Please make sure you have the correct version of Qiskit installed or run this on IBM Quantum Experience\" \n",
    "assert parse_version(qiskit.__qiskit_version__['qiskit']) >= parse_version('0.20'),\"Please make sure you have the correct version of Qiskit installed or run this on IBM Quantum Experience\" \n",
    "from cryptography.fernet import Fernet\n",
    "import base64\n",
    "basis_gates = ['id', 'x', 'y', 'z', 's', 't', 'sdg', 'tdg', 'h', 'p', 'sx' ,'r', 'rx', 'ry', 'rz', 'u', 'u1', 'u2', 'u3', 'cx', 'barrier', 'measure']\n",
    "secret_message = b'gAAAAABfevgMDRKfpM75bCBMUfAvaUW_Fjs2PxFYkYOSCldJTUnl8oLKVZRaiPitXqwQwbMTx4YwSCf_n0HQ-RIBvLa58AN4Pi7Fp9hFxGtjwzIpWUXIUr-BGE_9SLvjUGgsQCyrhK9ZJ5Yy9R5F6w4Me0Csr19UU3IqQQIP3ffhInE5o68_CI_URCjHXpBUnztJoDmlBnZz3Ka5NykfUN22iulaFvXOyw=='\n",
    "print(f\"The secret message is {secret_message.decode()}\")"
   ]
  },
  {
   "cell_type": "markdown",
   "metadata": {
    "deletable": false,
    "editable": false
   },
   "source": [
    "## The B92 Quantum Key Distribution Protocol\n",
    "\n",
    "For the puposes of this assignment, we will follow the convention defined in **Exercise 2.11** of _Quantum Computing: A Gentle Introduction_ by Eleanor Rieffel and Wolfgang Polak. \n",
    "This protocol is different from BB84 and was proposed by Charles Bennett in 1992. We will consider the version of the protocol without eavesdropping. As before, there are two parties, Alice and Bob. \n",
    "They communicate via a unidirectional quantum channel from Alice to Bob, and a authenticated bidirectional classical communication channel. The setup is shown in the figure below:\n",
    "\n",
    "![QKD Setup](https://raw.githubusercontent.com/deadbeatfour/quantum-computing-course/master/img/qkd.png)\n",
    "\n",
    "In this protocol, Alice and Bob generate one random binary string each. Alice encodes qubits according to values of her random binary string. For each bit in her binary string, she encodes $0$ as the $|0\\rangle$ state and encodes $1$ as the $|+\\rangle$ state and then sends all the qubits to Bob. Bob measures the qubits by choosing bases according to his random binary string. If the $i^{th}$ bit of his string is $0$, he measures the $i^{th}$ qubit in the Hadamard basis. If the $i^{th}$ bit is $1$, he measures the $i^{th}$ qubit in the computational basis. \n",
    "\n",
    "Finally Bob announces the results of his measurements over the classical channel. Alice and Bob keep only those bits from their binary strings corresponding to the qubits for which Bob measured an outcome of 1 to obtain their keys. The steps are mentioned in detail in the sections below:\n",
    "\n",
    "## Choosing bases and encoding states\n",
    "\n",
    "Alice generates one binary string and encodes her qubits using the following scheme:\n",
    "\n",
    "$0  \\rightarrow |0\\rangle$\n",
    "\n",
    "$1  \\rightarrow |+\\rangle$ \n",
    "\n",
    "Bob also generates a binary string and uses the following convention to choose a basis for measurement\n",
    "\n",
    "$0 \\rightarrow$ Hadamard basis\n",
    "\n",
    "$1 \\rightarrow$ Computational basis\n",
    "\n",
    "In the cell below, we generate two random binary strings for Alice and Bob respectively. These will be used by Alice to encode her state, and by Bob to decide his measurement bases. Since this is a standardised assignment, we have seeded the random number generator to produce the same output every time you run the cell below. We have used this setup and a symmetric key cipher to encrypt a secret message (the ciphertext was printed after the cell above). Your goal in this exercise is to complete the B92 Protocol correctly and discover the secret message. "
   ]
  },
  {
   "cell_type": "code",
   "execution_count": null,
   "metadata": {
    "deletable": false,
    "editable": false
   },
   "outputs": [],
   "source": [
    "num_qubits = 64\n",
    "\n",
    "rng = np.random.default_rng(seed=10)\n",
    "\n",
    "alice_state = rng.integers(0, 2, size=num_qubits)\n",
    "bob_basis = rng.integers(0, 2, size=num_qubits)\n",
    "\n",
    "print(f\"Alice's State:\\t {np.array2string(alice_state, separator='')}\")\n",
    "print(f\"Bob's Bases:\\t {np.array2string(bob_basis, separator='')}\")"
   ]
  },
  {
   "cell_type": "markdown",
   "metadata": {
    "deletable": false,
    "editable": false
   },
   "source": [
    "## Creating the circuit\n",
    "\n",
    "Based on the following result:\n",
    "\n",
    "$H|0\\rangle = |+\\rangle$\n",
    "\n",
    "Our algorithm to construct the circuit is as follows:\n",
    "\n",
    "1. Whenever Alice wants to encode `1` in a qubit, she applies an $H$ gate to the qubit. To encode `0`, no action is needed.\n",
    "\n",
    "2. She then _sends_ the qubits to Bob (symbolically represented in this circuit using wires)\n",
    "\n",
    "3. Bob measures the qubits according to his binary string. To measure a qubit in the Hadamard basis, he applies an $H$ gate to the corresponding qubit and then performs a standard basis measurement. \n",
    "\n",
    "## **Problem 1** (5 points)\n",
    "Given below is the structure for a function `make_b92_circ(enc_state, meas_basis)` which returns a `QuantumCircuit()` to simulate the B92 QKD protocol. Your task is to implement steps 1 through 3 above and populate the function below. For step 3, you need to apply the gate to change the basis, but don't need to perform a measurement. A measurement operation has already been added at the end. \n",
    "\n",
    "The method is the same as was used for BB84. \n",
    "\n",
    "<div class=\"alert alert-block alert-danger\"><b>Warning:</b> Please note that the measurement convention is the opposite of the BB84 case, i.e., 0 means Hadamard basis measurement and 1 means computational basis measurement. </div>"
   ]
  },
  {
   "cell_type": "code",
   "execution_count": null,
   "metadata": {
    "deletable": false
   },
   "outputs": [],
   "source": [
    "def make_b92_circ(enc_state, meas_basis):\n",
    "    '''\n",
    "    A function that makes a B92 QKD protocol simulation circuit\n",
    "    \n",
    "    enc_state: array of 0s and 1s denoting the state to be encoded using the following scheme:\n",
    "                0 -> |0>\n",
    "                1 -> |+>\n",
    "    \n",
    "    meas_basis: array of 0s and 1s denoting the basis to be used for measurement\n",
    "                0 -> Hadamard Basis\n",
    "                1 -> Computational Basis\n",
    "    \n",
    "    Note that both enc_state and meas_basis are arrays of integers, so if you are using them in \n",
    "    if statements, compare them to integer values like 0 and 1 (without quotes).\n",
    "    \n",
    "    Since this is a function, you only have access to the variables enc_state and meas_basis.\n",
    "    You may define other local variables. One such variable, num_qubits has been defined for you. \n",
    "    This is the number of qubits in the B92 simulation QuantumCircuit()\n",
    "    '''\n",
    "    num_qubits = len(enc_state)\n",
    "\n",
    "    b92 = QuantumCircuit(num_qubits)\n",
    "\n",
    "    # Sender prepares qubits\n",
    "    # Add code below to encode the state in qubits\n",
    "\n",
    "    \n",
    "    b92.barrier()  \n",
    "    # Receiver measures the received qubits\n",
    "    # Add code below to change basis for measurements. DO NOT add a measure() or measure_all()\n",
    "\n",
    "    # Do not change below this line\n",
    "    b92.measure_all()\n",
    "    return b92"
   ]
  },
  {
   "cell_type": "markdown",
   "metadata": {
    "deletable": false,
    "editable": false
   },
   "source": [
    "## Simulating B92\n",
    "Once you have populated the function above, run the cell below to check if the function works correctly. We have added some basic checks and we are checking your measurement results against the solution. \n",
    "If you feel that your solution is correct but does not pass the check, consult all the library version related instructions at the top of this notebook, and then contact us via Google Classroom private comment for clarification. \n",
    "The result of Bob's measurements are also printed below."
   ]
  },
  {
   "cell_type": "code",
   "execution_count": null,
   "metadata": {
    "deletable": false,
    "editable": false
   },
   "outputs": [],
   "source": [
    "try:\n",
    "    b92_circ = make_b92_circ(alice_state, bob_basis)\n",
    "    assert list(b92_circ.count_ops()) != [], \"Circuit cannot be empty\"\n",
    "    assert set(b92_circ.count_ops().keys()).difference(basis_gates) == set(), f\"Only the following basic gates are allowed: {basis_gates}\"\n",
    "    assert all([type(gate[0]) == qiskit.circuit.measure.Measure for gate in b92_circ.data[-b92_circ.num_qubits:len(b92_circ.data)]]), \"Measurement must be the last operation in a circuit.\"\n",
    "    assert b92_circ.count_ops()['measure'] == b92_circ.num_qubits, \"Please do not add or remove measurements.\"\n",
    "    temp_key = execute(\n",
    "        b92_circ.reverse_bits(),\n",
    "        backend=QasmSimulator(),\n",
    "        shots=1, \n",
    "        seed_simulator=10\n",
    "    ).result().get_counts().most_frequent()\n",
    "    assert temp_key == bin(16228741048440553634)[2:], \"Your circuit did not perform as expected. Please check the gates again.\"\n",
    "    print(f\"Bob's results:\\t{temp_key}\\nYour answer is correct.\")\n",
    "except AssertionError as e:\n",
    "    print(f'Your code has an error:  {e.args[0]}')\n",
    "except Exception as e:\n",
    "    print(f'This error occured: {e.args[0]}')"
   ]
  },
  {
   "cell_type": "markdown",
   "metadata": {
    "deletable": false,
    "editable": false
   },
   "source": [
    "## Creating the key\n",
    "\n",
    "Now we need to generate the key via sifting. The sifting process for B92 is different from that of BB84. \n",
    "After Bob has measured the qubits, Bob will announce his measured result (the binary string printed after the previous cell). Then, Alice and Bob keep the bits in their randomly generated binary strings at the positions where Bob measured an outcome `1` in his result. Then both he and Alice discard all other bits from their respective strings. \n",
    "\n",
    "## **Problem 2** (5 points)\n",
    "\n",
    "Given below is the structure for a function `b92_sifting(enc_state, meas_basis, meas_result)`. This function will perform key sifting based on Bob's measurement results. \n",
    "Inside the function there are two variables `sender_key` and `receiver_key`. The names are self explanatory. The sifting process is given below:\n",
    "\n",
    "Loop through each character in the `meas_result` argument. For the $i^{th}$ character:\n",
    "\n",
    "1. If the measured outcome is `'1'`, \n",
    "    - Append the $i^{th}$ bit from the `enc_state` argument to the `sender_key`\n",
    "    - Append the $i^{th}$ bit from the `meas_basis` argument to the `receiver_key`\n",
    "    \n",
    "2. If the measured outcome is `'0'`, \n",
    "    - Do nothing. "
   ]
  },
  {
   "cell_type": "code",
   "execution_count": null,
   "metadata": {
    "deletable": false
   },
   "outputs": [],
   "source": [
    "def b92_sifting(enc_state, meas_basis, meas_result):\n",
    "    '''\n",
    "    The function that implements key sifting for the B92 QKD protocol.\n",
    "    \n",
    "    enc_state:  array of 0s and 1s denoting the state to be encoded.\n",
    "                (Array of integers)\n",
    "    \n",
    "    meas_basis: array of 0s and 1s denoting the basis to be used for measurement.\n",
    "                (Array of integers)\n",
    "    \n",
    "    meas_result: A string of characters representing the results of measurement after the \n",
    "                B92 QKD protocol. Note that this is a string and its elements are characters, \n",
    "                so while using any if statements, compare the elements to '0' and '1' (with quotes)\n",
    "                \n",
    "    Since this is a function, you only have access to the variables enc_state, meas_basis and meas_result.\n",
    "    You may define other local variables. num_qubits has been defined for you. \n",
    "    This is the number of qubits in the B92 simulation QuantumCircuit.\n",
    "    \n",
    "    sender_key and receiver_key are initialised as two empty strings. You may append bits using the += \n",
    "    operation as shown in the BB84 notebook. Note that you can only add characters. To change from other \n",
    "    data types to characters, you may use str(). Check the BB84 notebook for examples. \n",
    "    '''\n",
    "    \n",
    "    num_qubits = len(enc_state)\n",
    "\n",
    "    sender_key = ''\n",
    "    receiver_key = ''\n",
    "    \n",
    "    # Loop over all bits in the meas_result string and add the necessary bits to both sender_key and receiver_key\n",
    "    # Add your code below\n",
    "\n",
    "    # Do not change bolow this line. \n",
    "    return (sender_key, receiver_key)"
   ]
  },
  {
   "cell_type": "markdown",
   "metadata": {
    "deletable": false,
    "editable": false
   },
   "source": [
    "# Obtaining the final key and decrypting the message\n",
    "Once you have filled in the function above, run the following cell. We use the function you filled to obtain the final sifted key from Alice's and Bob's binary strings and Bob's measurement results. \n",
    "Those keys are printed. If all goes well, the secret message will also be decrypted for you. "
   ]
  },
  {
   "cell_type": "code",
   "execution_count": null,
   "metadata": {
    "deletable": false,
    "editable": false
   },
   "outputs": [],
   "source": [
    "try: \n",
    "    alice_key, bob_key = b92_sifting(alice_state, bob_basis, temp_key)\n",
    "    assert ''.join([str(x ^ y) for x, y in zip(alice_key.encode(), bob_key.encode())]) != '1'*len(alice_key), \"Please check your measurement convention\"\n",
    "    assert alice_key == bob_key, \"They keys are different for Alice and Bob.\"\n",
    "    assert alice_key == bob_key == bin(49522)[2:], \"They keys is incorrect. Please check your solutions.\"\n",
    "    print(f\"Alice's Key: \\t{alice_key}\\nBob's Key: \\t{bob_key}\\nYour answer is correct.\")\n",
    "    g = Fernet(base64.b64encode(bob_key.encode()*2))\n",
    "    print(f\"The secret message is: {g.decrypt(secret_message).decode()}\")\n",
    "except AssertionError as e:\n",
    "    print(f'Your code has an error:  {e.args[0]}')\n",
    "except Exception as e:\n",
    "    print(f'This error occured: {e.args[0]}')    "
   ]
  }
 ],
 "metadata": {
  "colab": {
   "collapsed_sections": [],
   "name": "B92.ipynb",
   "provenance": [
    {
     "file_id": "14CCMaBh4CeKJkcB1NChZNvzZn2oFt59G",
     "timestamp": 1558170516460
    }
   ],
   "version": "0.3.2"
  },
  "kernelspec": {
   "display_name": "Python 3",
   "language": "python",
   "name": "python3"
  },
  "language_info": {
   "codemirror_mode": {
    "name": "ipython",
    "version": 3
   },
   "file_extension": ".py",
   "mimetype": "text/x-python",
   "name": "python",
   "nbconvert_exporter": "python",
   "pygments_lexer": "ipython3",
   "version": "3.8.3"
  }
 },
 "nbformat": 4,
 "nbformat_minor": 4
}
