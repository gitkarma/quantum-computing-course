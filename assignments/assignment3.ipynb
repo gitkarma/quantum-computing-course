{
 "cells": [
  {
   "cell_type": "markdown",
   "metadata": {
    "deletable": false,
    "editable": false
   },
   "source": [
    "# Assignment 3\n",
    "Welcome to the third programming assignment for the course. This assignments will help to familiarise you with Boolean function oracles while revisiting the topics discussed in this week's lectures. \n",
    "\n",
    "### Submission Guidelines\n",
    "For final submission, and to ensure that you have no errors in your solution, please use the 'Restart and Run All' option availble in the Kernel menu at the top of the page. \n",
    "To submit your solution, run the completed notebook and attach the solved notebook (with results visible) as a .ipynb file using the 'Add or Create' option under the 'Your Work' heading on the assignment page in Google Classroom. "
   ]
  },
  {
   "cell_type": "code",
   "execution_count": null,
   "metadata": {
    "deletable": false,
    "editable": false
   },
   "outputs": [],
   "source": [
    "%matplotlib inline\n",
    "import numpy as np\n",
    "import matplotlib.pyplot as plt\n",
    "# Importing standard Qiskit libraries\n",
    "from qiskit import QuantumCircuit, execute\n",
    "from qiskit.providers.aer import QasmSimulator\n",
    "from qiskit.visualization import *\n",
    "from qiskit.quantum_info import *\n",
    "basis_gates = ['id', 'x', 'y', 'z', 's', 't', 'sdg', 'tdg', 'h', 'p', 'sx' ,'r', 'rx', 'ry', 'rz', 'u', 'u1', 'u2', 'u3', 'cx', 'ccx', 'barrier', 'measure', 'snapshot']"
   ]
  },
  {
   "cell_type": "markdown",
   "metadata": {
    "deletable": false,
    "editable": false
   },
   "source": [
    "## A quantum oracle implementation of the classical OR operation\n",
    "We've already seen that the Toffoli gate implements the quantum version of the classical AND operation. The first part of this exercise will require you to construct such a quantum implementation for the OR operation.\n",
    "The logical OR operation takes two Boolean inputs and returns 1 as the result if either or both of the inputs are 1. It is often denoted using the $\\vee$ symbol (it is also called the disjunction operation). The truth table for the classical OR operation is given below:\n",
    "\n",
    "| $x$ \t| $y$ \t| $x\\vee y$ \t|\n",
    "|-----\t|-----\t|-----------\t|\n",
    "| 0   \t| 0   \t| 0         \t|\n",
    "| 0   \t| 1   \t| 1         \t|\n",
    "| 1   \t| 0   \t| 1         \t|\n",
    "| 1   \t| 1   \t| 1         \t|\n",
    "\n",
    "### De Morgan's laws\n",
    "Finding a gate that is the direct quantum analogue of the OR operation might prove to be difficult. Luckily, there are a set of two relation in Boolean algebra that can provide a helpful workaround. \n",
    "$$\\overline{x\\vee y} = \\overline{x} \\wedge \\overline{y}$$\n",
    "This is read as _not ($x$ or $y$) = not $x$ and not $y$_\n",
    "$$\\overline{x\\wedge y} = \\overline{x} \\vee \\overline{y}$$\n",
    "This is read as _not ($x$ and $y$) = not $x$ or not $y$_\n",
    "## **Problem 1**\n",
    "1. Using the expressions for De Morgan's laws above, construct a Boolean formula for $x \\vee y$ consisting only of the logical AND and NOT operations. \n",
    "2. We have provided the `QuantumCircuit()` for a quantum bit oracle to implement the OR operation. Apply the appropriate gates to this circuit based on the expression calculated in Step 1. Do NOT add a measurement\n",
    "\n",
    "<div class=\"alert alert-block alert-warning\"><b>Warning: </b>Please be careful to ensure that the circuit below matches the oracle structure i.e. the input qubit states are not altered after the operation of the oracle.</div>"
   ]
  },
  {
   "cell_type": "code",
   "execution_count": null,
   "metadata": {},
   "outputs": [],
   "source": [
    "or_oracle = QuantumCircuit(3)\n",
    "\n",
    "# Do not change below this line\n",
    "or_oracle.draw(output='mpl')"
   ]
  },
  {
   "cell_type": "code",
   "execution_count": null,
   "metadata": {
    "deletable": false,
    "editable": false
   },
   "outputs": [],
   "source": [
    "or_tt = ['000', '011', '101', '111']\n",
    "def check_or_oracle(tt_row):\n",
    "    check_qc = QuantumCircuit(3)\n",
    "    for i in range(2):\n",
    "        if (tt_row[i] == '1'):\n",
    "            check_qc.x(i)\n",
    "    check_qc.extend(or_oracle)\n",
    "    check_qc.measure_all()\n",
    "    return (execute(check_qc.reverse_bits(),backend=QasmSimulator(), shots=1).result().get_counts().most_frequent() == tt_row)\n",
    "try:\n",
    "    assert list(or_oracle.count_ops()) != [], f\"Circuit cannot be empty\"\n",
    "    assert 'measure' not in or_oracle.count_ops(), f\"Please remove measurements\"\n",
    "    assert set(or_oracle.count_ops().keys()).difference(basis_gates) == set(), f\"Only the following basic gates are allowed: {basis_gates}\"\n",
    "    for tt_row in or_tt:     \n",
    "        assert check_or_oracle(tt_row), f\" Input {tt_row[0:2]}: Your encoding is not correct\"\n",
    "    print(\"Your oracle construction passed all checks\")\n",
    "except AssertionError as e:\n",
    "    print(f'Your code has an error:  {e.args[0]}')\n",
    "    \n",
    "except Exception as e:\n",
    "    print(f'This error occured: {e.args[0]}')"
   ]
  },
  {
   "cell_type": "markdown",
   "metadata": {
    "deletable": false,
    "editable": false
   },
   "source": [
    "## Linear functions and the Bernstein-Vazirani Algorithm\n",
    "The Deutch-Jozsa algorithm allows us to distinguish between constant and balanced Boolean functions. There is an extension to the Deutsch-Jozsa algorithm that allows us to extract some information about a certain other class of functions. This is what we will be exploring now. \n",
    "\n",
    "An $n$-bit Boolean function $f(x)$ is called linear if it can be written as the bitwise product of a particular $n$-bit binary string $a$ and the function variable $x$ (which is  also a binary string of length $n$), i.e., linear functions can be written as \n",
    "$$f(x) = a\\cdot x \\;(\\text{ mod } 2)$$\n",
    "\n",
    "You might recall from the discussion on the Hadamard transform, that for any general $n$-qubit computational basis state, the Hadamard transform has the following effect\n",
    "$$H^{\\otimes n}|a\\rangle = \\frac{1}{2^{n/2}}\\sum\\limits_{x=0}^{2^n-1}(-1)^{a\\cdot x}|x\\rangle$$\n",
    "Due to the self-inverting nature of the Hadamard transformation, we can apply $H^{\\otimes n}$ to both sides of the above equation and get (after flipping sides)\n",
    "$$H^{\\otimes n} \\left( \\frac{1}{2^{n/2}}\\sum\\limits_{x=0}^{2^n-1}(-1)^{a\\cdot x}|x\\rangle \\right) = |a\\rangle$$\n",
    "The term inside the brackets on the left hand side of the equation looks like what we would get if we passed an equal superposition state through a phase oracle for the Boolean function $f(x) = a\\cdot x \\;(\\text{ mod } 2)$. This is depicted in the equation below:\n",
    "$$\\frac{1}{2^{n/2}}\\sum\\limits_{x=0}^{2^n-1}|x\\rangle \\xrightarrow{U_f} \\frac{1}{2^{n/2}}\\sum\\limits_{x=0}^{2^n-1}(-1)^{a\\cdot x}|x\\rangle$$\n",
    "\n",
    "The Bernstein-Vazirani algorithm uses all the things discussed above. Given an oracle for a function that we know is linear, we can find the binary string $a$ corresponding to the linear function. The steps of the algorithm are shown in the equation below and then described in words.\n",
    "$$|0^{\\otimes n}\\rangle \\xrightarrow{H^{\\otimes n}} \\frac{1}{2^{n/2}}\\sum\\limits_{x=0}^{2^n-1}|x\\rangle \\xrightarrow{U_f} \\frac{1}{2^{n/2}}\\sum\\limits_{x=0}^{2^n-1}(-1)^{a\\cdot x}|x\\rangle \\xrightarrow{H^{\\otimes n}} |a\\rangle$$\n",
    "In the expression above, we've omitted (for readability) the mention of the extra qubit in the $|-\\rangle$ state that is required for the oracle output, but it is necessary. \n",
    "\n",
    "## **Problem 2**\n",
    "Consider the Boolean function $f(x) = (\\overline{x_1} \\wedge x_0) \\vee (x_1 \\wedge \\overline{x_0})$. Take it as given that this function is a linear function. We want to find the 2-bit binary string $a$. Your objective is to use this expression above to implement the quantum bit oracle for this Boolean function. \n",
    "This is more complex than any expression we have seen so far, so the implementation will be carried out in a few steps. \n",
    "\n",
    "A `QuantumCircuit()` with 3 qubits is provided below.\n",
    "- $q_0$ and $q_1$ are the input qubits for the variables $x_0$ and $x_1$ respectively.\n",
    "- $q_2$ is the output qubit and stores the value of the final Boolean function expression\n",
    "\n"
   ]
  },
  {
   "cell_type": "code",
   "execution_count": null,
   "metadata": {
    "deletable": false,
    "editable": false
   },
   "outputs": [],
   "source": [
    "bv_oracle = QuantumCircuit(3)\n",
    "bv_oracle.cx(0,2)\n",
    "bv_oracle.cx(1,2)\n",
    "bv_oracle.draw('mpl')"
   ]
  },
  {
   "cell_type": "markdown",
   "metadata": {
    "deletable": false,
    "editable": false
   },
   "source": [
    "Using the bit oracle provided above, construct a circuit for the Bernstein-Vazirani algorithm.The  steps for the algorithm are as follows:\n",
    "1. Start will $(n+1)$ qubits in the $|0\\rangle$ state. Here $n=2$. The first two qubits $q_0$ and $q_1$ will serve as input to the oracle. The extra qubit is used for the oracle output. Since we need a phase oracle, add gates to prepare the state $|-\\rangle$ in this qubit ($q_2$). \n",
    "2. Apply an $H$ gate to all the input qubits. \n",
    "3. Apply the oracle $U_f$ \n",
    "4. Apply an $H$ gate to all the input qubits. \n",
    "5. Measure the $n$ input qubits. \n",
    "If the function corresponding to  $U_f$ is linear, the final state measured will be the binary string $a$.\n",
    "\n",
    "Astute readers will notice that the steps followed in the Bernstein-Vazirani and the Deutsch-jozsa algorithms are the same. `bv_circ` is a `QuantumCircuit(3,2)` given below. Add necessary operations to the circuit below to realise the steps for the Bernstein-Vazirani algorithm."
   ]
  },
  {
   "cell_type": "code",
   "execution_count": null,
   "metadata": {},
   "outputs": [],
   "source": [
    "bv_circ = QuantumCircuit(3,2)\n",
    "\n",
    "# Do not remove this line\n",
    "bv_circ.draw(output='mpl')"
   ]
  },
  {
   "cell_type": "code",
   "execution_count": null,
   "metadata": {
    "deletable": false,
    "editable": false
   },
   "outputs": [],
   "source": [
    "try:\n",
    "    assert list(bv_circ.count_ops()) != [], f\"Circuit cannot be empty\"\n",
    "    assert set(bv_circ.count_ops().keys()).difference(basis_gates) == set(), f\"Only the following basic gates are allowed: {basis_gates}\"\n",
    "    counts = execute(bv_circ.reverse_bits(), backend=QasmSimulator(), shots=8192).result().get_counts()\n",
    "    assert list(counts.keys()) == ['11'], \"Your circuit did not produce the right answer\"\n",
    "    print(\" Your circuit produced the correct output. Please submit for evaluation.\")\n",
    "except AssertionError as e:\n",
    "    print(f'Your code has an error:  {e.args[0]}')\n",
    "    \n",
    "except Exception as e:\n",
    "    print(f'This error occured: {e.args[0]}')\n",
    "plot_histogram(counts)"
   ]
  }
 ],
 "metadata": {
  "kernelspec": {
   "display_name": "Python 3",
   "language": "python",
   "name": "python3"
  },
  "language_info": {
   "codemirror_mode": {
    "name": "ipython",
    "version": 3
   },
   "file_extension": ".py",
   "mimetype": "text/x-python",
   "name": "python",
   "nbconvert_exporter": "python",
   "pygments_lexer": "ipython3",
   "version": "3.8.3"
  }
 },
 "nbformat": 4,
 "nbformat_minor": 4
}
