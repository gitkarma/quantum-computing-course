{
 "cells": [
  {
   "cell_type": "markdown",
   "metadata": {
    "colab_type": "text",
    "id": "XcaDuzXbl_mL"
   },
   "source": [
    "# BB84 Quantum Key Distribution (QKD) Protocol using Qiskit\n",
    "\n",
    "This notebook is a _demonstration_ of the BB84 Protocol for QKD using Qiskit. \n",
    "BB84 is a quantum key distribution scheme developed by Charles Bennett and Gilles Brassard in 1984 ([paper]).\n",
    "The first three sections of the paper are readable and should give you all the necessary information required. \n",
    "\n",
    "![QKD Setup](https://raw.githubusercontent.com/deadbeatfour/quantum-computing-course/master/img/qkd.png)\n",
    "\n",
    "[paper]: http://researcher.watson.ibm.com/researcher/files/us-bennetc/BB84highest.pdf \n"
   ]
  },
  {
   "cell_type": "code",
   "execution_count": 1,
   "metadata": {
    "colab": {},
    "colab_type": "code",
    "id": "48Nq5dTpVtjb"
   },
   "outputs": [],
   "source": [
    "%matplotlib inline\n",
    "import numpy as np\n",
    "import matplotlib.pyplot as plt\n",
    "# Importing standard Qiskit libraries\n",
    "from qiskit import QuantumCircuit, execute\n",
    "from qiskit.providers.aer import QasmSimulator\n",
    "from qiskit.visualization import *"
   ]
  },
  {
   "cell_type": "markdown",
   "metadata": {
    "colab_type": "text",
    "id": "W_VfWIExmzbR"
   },
   "source": [
    "## Choosing bases and encoding states\n",
    "\n",
    "Alice generates two binary strings. One encodes the basis for each qubit:\n",
    "\n",
    "$0 \\rightarrow$ Computational basis\n",
    "\n",
    "$1  \\rightarrow$ Hadamard basis\n",
    "\n",
    "The other encodes the state:\n",
    "\n",
    "$0  \\rightarrow|0\\rangle$ or $|+\\rangle $ \n",
    "\n",
    "$1  \\rightarrow|1\\rangle$  or  $|-\\rangle $ \n",
    "\n",
    "Bob also generates a binary string and uses the same convention to choose a basis for measurement\n"
   ]
  },
  {
   "cell_type": "code",
   "execution_count": 26,
   "metadata": {
    "colab": {},
    "colab_type": "code",
    "id": "0HEKqtaZVwWv"
   },
   "outputs": [
    {
     "name": "stdout",
     "output_type": "stream",
     "text": [
      "Alice's State:\t [01111000001010100100110011000110]\n",
      "Alice's Bases:\t [00011010011000001100111111110101]\n",
      "Bob's Bases:\t [11010000001111010111110000101010]\n"
     ]
    }
   ],
   "source": [
    "num_qubits = 32\n",
    "\n",
    "alice_basis = np.random.randint(2, size=num_qubits)\n",
    "alice_state = np.random.randint(2, size=num_qubits)\n",
    "bob_basis = np.random.randint(2, size=num_qubits)\n",
    "\n",
    "\n",
    "print(f\"Alice's State:\\t {np.array2string(alice_state, separator='')}\")\n",
    "print(f\"Alice's Bases:\\t {np.array2string(alice_basis, separator='')}\")\n",
    "print(f\"Bob's Bases:\\t {np.array2string(bob_basis, separator='')}\")"
   ]
  },
  {
   "cell_type": "markdown",
   "metadata": {
    "colab_type": "text",
    "id": "pS2PFgpzq63z"
   },
   "source": [
    "## Creating the circuit\n",
    "\n",
    "Based on the following results:\n",
    "\n",
    "$X|0\\rangle = |1\\rangle$\n",
    "\n",
    "$H|0\\rangle = |+\\rangle$\n",
    "\n",
    "$ HX|0\\rangle = |-\\rangle$\n",
    "\n",
    "Our algorithm to construct the circuit is as follows:\n",
    "\n",
    "1. Whenever Alice wants to encode 1 in a qubit, she applies an $X$ gate to the qubit. To encode 0, no action is needed.\n",
    "2. Wherever she wants to encode it in the Hadamard basis, she applies an $H$ gate. No action is necessary to encode a qubit in the computational basis.\n",
    "\n",
    "3. She then _sends_ the qubits to Bob (symbolically represented in this circuit using wires)\n",
    "\n",
    "4. Bob measures the qubits according to his binary string. To measure a qubit in the Hadamard basis, he applies an $H$ gate to the corresponding qubit and then performs a mesurement on the computational basis. \n",
    "\n"
   ]
  },
  {
   "cell_type": "code",
   "execution_count": 34,
   "metadata": {
    "colab": {},
    "colab_type": "code",
    "id": "rzMnBoG3ZBQc"
   },
   "outputs": [],
   "source": [
    "def make_bb84_circ(enc_state, enc_basis, meas_basis):\n",
    "    '''\n",
    "    enc_state: array of 0s and 1s denoting the state to be encoded\n",
    "    enc_basis: array of 0s and 1s denoting the basis to be used for encoding\n",
    "                0 -> Computational Basis\n",
    "                1 -> Hadamard Basis\n",
    "    meas_basis: array of 0s and 1s denoting the basis to be used for measurement\n",
    "                0 -> Computational Basis\n",
    "                1 -> Hadamard Basis\n",
    "    '''\n",
    "    num_qubits = len(enc_state)\n",
    "    \n",
    "    bb84_circ = QuantumCircuit(num_qubits)\n",
    "\n",
    "    # Sender prepares qubits\n",
    "    for index in range(len(enc_basis)):\n",
    "        if enc_state[index] == 1:\n",
    "            bb84_circ.x(index)\n",
    "        if enc_basis[index] == 1:\n",
    "            bb84_circ.h(index)\n",
    "    bb84_circ.barrier()  \n",
    "\n",
    "    # Receiver measures the received qubits\n",
    "    for index in range(len(meas_basis)):\n",
    "        if meas_basis[index] == 1:\n",
    "            bb84_circ.h(index)\n",
    "\n",
    "    bb84_circ.barrier()        \n",
    "    bb84_circ.measure_all()\n",
    "    \n",
    "    return bb84_circ\n"
   ]
  },
  {
   "cell_type": "markdown",
   "metadata": {
    "colab_type": "text",
    "id": "0nnU125A1f_y"
   },
   "source": [
    "## Creating the key\n",
    "\n",
    "Alice and Bob only keep the bits where their bases match.\n",
    "\n",
    "The following outcomes are possible for each bit sent using the BB84 protocol\n",
    "\n",
    "|     Alice's   bit    \t|     Alice's   basis    \t|     Alice's   State    \t|     Bob's   basis    \t|     Bob's   outcome    \t|     Bob's   bit    \t|     Probability    \t|\n",
    "|----------------------\t|------------------------\t|------------------------\t|----------------------\t|------------------------\t|--------------------\t|--------------------\t|\n",
    "|     0                \t|     C                  \t|     0                  \t|     C                \t|     0                  \t|     0              \t|     1/8            \t|\n",
    "|     0                \t|     C                  \t|     0                  \t|     H                \t|     +                  \t|     0              \t|     1/16           \t|\n",
    "|     0                \t|     C                  \t|     0                  \t|     H                \t|     -                  \t|     1              \t|     1/16           \t|\n",
    "|     0                \t|     H                  \t|     +                  \t|     C                \t|     0                  \t|     0              \t|     1/16           \t|\n",
    "|     0                \t|     H                  \t|     +                  \t|     C                \t|     1                  \t|     1              \t|     1/16           \t|\n",
    "|     0                \t|     H                  \t|     +                  \t|     H                \t|     +                  \t|     0              \t|     1/8            \t|\n",
    "|     1                \t|     C                  \t|     1                  \t|     C                \t|     1                  \t|     1              \t|     1/8            \t|\n",
    "|     1                \t|     C                  \t|     1                  \t|     H                \t|     +                  \t|     0              \t|     1/16           \t|\n",
    "|     1                \t|     C                  \t|     1                  \t|     H                \t|     -                  \t|     1              \t|     1/16           \t|\n",
    "|     1                \t|     H                  \t|     -                  \t|     C                \t|     0                  \t|     0              \t|     1/16           \t|\n",
    "|     1                \t|     H                  \t|     -                  \t|     C                \t|     1                  \t|     1              \t|     1/16           \t|\n",
    "|     1                \t|     H                  \t|     -                  \t|     H                \t|     -                  \t|     1              \t|     1/8            \t|\n",
    "\n",
    "\\begin{align*}\n",
    "P_{\\text{same basis}} &= P_A(C)\\times P_B(C) + P_A(H)\\times P_B(H)\\\\\n",
    "&= \\frac{1}{2} \\times \\frac{1}{2} + \\frac{1}{2} \\times \\frac{1}{2} \\\\ \n",
    "&= \\frac{1}{2}\n",
    "\\end{align*}\n",
    "\n",
    "Thus, on average, only half of the total bits will be in the final key. It is also interesting to note that half of the key bits will be 0 and the other half will be 1 (again, on average)"
   ]
  },
  {
   "cell_type": "code",
   "execution_count": 33,
   "metadata": {
    "colab": {},
    "colab_type": "code",
    "id": "Sq2VoUgFSxgg"
   },
   "outputs": [
    {
     "name": "stdout",
     "output_type": "stream",
     "text": [
      "The length of the key is 11\n",
      "The key contains 4 zeroes and 7 ones\n",
      "Key: 11000111110\n"
     ]
    }
   ],
   "source": [
    "bb84_circ = make_bb84_circ(alice_state, alice_basis, bob_basis)\n",
    "temp_key = execute(bb84_circ.reverse_bits(),backend=QasmSimulator(),shots=1).result().get_counts().most_frequent()\n",
    "key = ''\n",
    "for i in range(num_qubits):\n",
    "    if alice_basis[i] == bob_basis[i]: # Only choose bits where Alice and Bob chose the same basis\n",
    "         key += str(temp_key[i])\n",
    "print(f'The length of the key is {len(key)}')\n",
    "print(f\"The key contains {(key).count('0')} zeroes and {(key).count('1')} ones\")\n",
    "print(f\"Key: {key}\")"
   ]
  }
 ],
 "metadata": {
  "colab": {
   "collapsed_sections": [],
   "name": "BB84.ipynb",
   "provenance": [],
   "version": "0.3.2"
  },
  "kernelspec": {
   "display_name": "Python 3",
   "language": "python",
   "name": "python3"
  },
  "language_info": {
   "codemirror_mode": {
    "name": "ipython",
    "version": 3
   },
   "file_extension": ".py",
   "mimetype": "text/x-python",
   "name": "python",
   "nbconvert_exporter": "python",
   "pygments_lexer": "ipython3",
   "version": "3.8.3"
  }
 },
 "nbformat": 4,
 "nbformat_minor": 4
}
