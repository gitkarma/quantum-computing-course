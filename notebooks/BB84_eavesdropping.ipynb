{
 "cells": [
  {
   "cell_type": "markdown",
   "metadata": {
    "colab_type": "text",
    "id": "MPJiJo041T4U"
   },
   "source": [
    "# BB84 Quantum Key Distribution (QKD) Protocol (with eavesdropping)\n",
    "\n",
    "This notebook is a _demonstration_ of the BB84 Protocol for QKD using Qiskit. \n",
    "BB84 is a quantum key distribution scheme developed by Charles Bennett and Gilles Brassard in 1984 ([paper]).\n",
    "The first three sections of the paper are readable and should give you all the necessary information required. \n",
    "\n",
    "\n",
    "![QKD Setup](https://raw.githubusercontent.com/deadbeatfour/quantum-computing-course/master/img/qkd_eavesdropping.png)\n",
    "\n",
    "\n",
    "[paper]: http://researcher.watson.ibm.com/researcher/files/us-bennetc/BB84highest.pdf \n"
   ]
  },
  {
   "cell_type": "code",
   "execution_count": 1,
   "metadata": {
    "colab": {},
    "colab_type": "code",
    "id": "48Nq5dTpVtjb"
   },
   "outputs": [],
   "source": [
    "%matplotlib inline\n",
    "import numpy as np\n",
    "import matplotlib.pyplot as plt\n",
    "# Importing standard Qiskit libraries\n",
    "from qiskit import QuantumCircuit, execute\n",
    "from qiskit.providers.aer import QasmSimulator\n",
    "from qiskit.visualization import *"
   ]
  },
  {
   "cell_type": "markdown",
   "metadata": {
    "colab_type": "text",
    "id": "AOsurPh_1hmx"
   },
   "source": [
    "## Choosing bases and encoding states\n",
    "\n",
    "Alice generates two binary strings. One encodes the basis for each qubit:\n",
    "\n",
    "$0 \\rightarrow$ Computational basis\n",
    "\n",
    "$1  \\rightarrow$ Hadamard basis\n",
    "\n",
    "The other encodes the state:\n",
    "\n",
    "$0  \\rightarrow|0\\rangle$ or $|+\\rangle $ \n",
    "\n",
    "$1  \\rightarrow|1\\rangle$  or  $|-\\rangle $ \n",
    "\n",
    "Bob and Oscar also generate a binary string each using the same convention to choose a basis for measurement\n"
   ]
  },
  {
   "cell_type": "code",
   "execution_count": 2,
   "metadata": {
    "colab": {},
    "colab_type": "code",
    "id": "0HEKqtaZVwWv"
   },
   "outputs": [
    {
     "name": "stdout",
     "output_type": "stream",
     "text": [
      "Alice's State:\t [01001010010100001111110110010110]\n",
      "Alice's Bases:\t [00000100011100101001000100101001]\n",
      "Oscar's Bases:\t [01000000110000010110000101011111]\n",
      "Bob's Bases:\t [01111001011010100011100101010000]\n"
     ]
    }
   ],
   "source": [
    "num_qubits = 32\n",
    "\n",
    "alice_basis = np.random.randint(2, size=num_qubits)\n",
    "alice_state = np.random.randint(2, size=num_qubits)\n",
    "bob_basis = np.random.randint(2, size=num_qubits)\n",
    "oscar_basis = np.random.randint(2, size=num_qubits)\n",
    "\n",
    "print(f\"Alice's State:\\t {np.array2string(alice_state, separator='')}\")\n",
    "print(f\"Alice's Bases:\\t {np.array2string(alice_basis, separator='')}\")\n",
    "print(f\"Oscar's Bases:\\t {np.array2string(oscar_basis, separator='')}\")\n",
    "print(f\"Bob's Bases:\\t {np.array2string(bob_basis, separator='')}\")"
   ]
  },
  {
   "cell_type": "markdown",
   "metadata": {
    "colab_type": "text",
    "id": "cqHsYCY11zLY"
   },
   "source": [
    "## Creating the circuit\n",
    "\n",
    "Based on the following results:\n",
    "\n",
    "$X|0\\rangle = |1\\rangle$\n",
    "\n",
    "$H|0\\rangle = |+\\rangle$\n",
    "\n",
    "$ HX|0\\rangle = |-\\rangle$\n",
    "\n",
    "\n",
    "Our algorithm to construct the circuit is as follows:\n",
    "\n",
    "1. Whenever Alice wants to encode 1 in a qubit, she applies an $X$ gate to the qubit. To encode 0, no action is needed.\n",
    "2. Wherever she wants to encode it in the Hadamard basis, she applies an $H$ gate. No action is necessary to encode a qubit in the computational basis.\n",
    "\n",
    "3. She then _sends_ the qubits to Bob (symbolically represented in this circuit using wires)\n",
    "\n",
    "4. However, Oscar **intercepts** the qubits and measures them by choosing a basis as per his generated random binary string. To measure a qubit in the Hadamard basis, he applies an $H$ gate to the corresponding qubit and then performs a measurement on the computational basis. \n",
    "\n",
    "5. Oscar now prepares another set of qubits according to his measurements and the bases he chose. He then **re-sends** these qubits to Bob.\n",
    "\n",
    "4. Bob measures the qubits according to his binary string. Bob also measures using the same method as Oscar.\n",
    "\n",
    "Since this can be seen as two BB84 steps in tandem, we can use the framework that we developed earlier."
   ]
  },
  {
   "cell_type": "code",
   "execution_count": 3,
   "metadata": {},
   "outputs": [],
   "source": [
    "def make_bb84_circ(enc_state, enc_basis, meas_basis):\n",
    "    '''\n",
    "    enc_state: array of 0s and 1s denoting the state to be encoded\n",
    "    enc_basis: array of 0s and 1s denoting the basis to be used for encoding\n",
    "                0 -> Computational Basis\n",
    "                1 -> Hadamard Basis\n",
    "    meas_basis: array of 0s and 1s denoting the basis to be used for measurement\n",
    "                0 -> Computational Basis\n",
    "                1 -> Hadamard Basis\n",
    "    '''\n",
    "    num_qubits = len(enc_state)\n",
    "    \n",
    "    bb84_circ = QuantumCircuit(num_qubits)\n",
    "\n",
    "    # Sender prepares qubits\n",
    "    for index in range(len(enc_basis)):\n",
    "        if enc_state[index] == 1:\n",
    "            bb84_circ.x(index)\n",
    "        if enc_basis[index] == 1:\n",
    "            bb84_circ.h(index)\n",
    "    bb84_circ.barrier()  \n",
    "\n",
    "    # Receiver measures the received qubits\n",
    "    for index in range(len(meas_basis)):\n",
    "        if meas_basis[index] == 1:\n",
    "            bb84_circ.h(index)\n",
    "     \n",
    "    bb84_circ.measure_all()\n",
    "    \n",
    "    return bb84_circ\n"
   ]
  },
  {
   "cell_type": "markdown",
   "metadata": {
    "colab_type": "text",
    "id": "cqHsYCY11zLY"
   },
   "source": [
    "## Simulating intercepted BB84\n",
    "The 'intercept and re-send' attack can be simulated by thinking of the whole process being broken up into two parts. The first part can be thought of as the BB84 protocol happening between Alice and Oscar, and the second part between Oscar and Bob. However, we have to know the result from the first part to create the circuit for the second part. We will do this below."
   ]
  },
  {
   "cell_type": "code",
   "execution_count": 4,
   "metadata": {
    "colab": {},
    "colab_type": "code",
    "id": "rzMnBoG3ZBQc"
   },
   "outputs": [
    {
     "name": "stdout",
     "output_type": "stream",
     "text": [
      "Oscar's results:\t 01001010011100110000110111000000\n",
      "Oscar's State:\t\t[01001010011100110000110111000000]\n"
     ]
    }
   ],
   "source": [
    "bb84_AO = make_bb84_circ(alice_state, alice_basis, oscar_basis)\n",
    "oscar_result = execute(bb84_AO.reverse_bits(),\n",
    "            backend=QasmSimulator(),\n",
    "            shots=1).result().get_counts().most_frequent()\n",
    "print(f\"Oscar's results:\\t {oscar_result}\")\n",
    "# Converting string to array\n",
    "oscar_state = np.array(list(oscar_result), dtype=int)\n",
    "print(f\"Oscar's State:\\t\\t{np.array2string(oscar_state, separator='')}\")"
   ]
  },
  {
   "cell_type": "code",
   "execution_count": 5,
   "metadata": {
    "colab": {},
    "colab_type": "code",
    "id": "rzMnBoG3ZBQc"
   },
   "outputs": [
    {
     "name": "stdout",
     "output_type": "stream",
     "text": [
      "Bob's results:\t\t 01011010011110100000110111000101\n"
     ]
    }
   ],
   "source": [
    "bb84_OB = make_bb84_circ(oscar_state, oscar_basis, bob_basis)\n",
    "temp_key = execute(bb84_OB.reverse_bits(),\n",
    "                   backend=QasmSimulator(),\n",
    "                   shots=1).result().get_counts().most_frequent()\n",
    "print(f\"Bob's results:\\t\\t {temp_key}\")"
   ]
  },
  {
   "cell_type": "markdown",
   "metadata": {
    "colab_type": "text",
    "id": "I5laKh4b1e0j"
   },
   "source": [
    "## Creating the key\n",
    "\n",
    "Alice and Bob only keep the bits where their bases match. Oscar also keeps only these bits from his measurements."
   ]
  },
  {
   "cell_type": "code",
   "execution_count": 6,
   "metadata": {
    "colab": {},
    "colab_type": "code",
    "id": "rzMnBoG3ZBQc"
   },
   "outputs": [
    {
     "name": "stdout",
     "output_type": "stream",
     "text": [
      "The length of the key is 16\n",
      "Alice's key contains\t 7 zeroes and 9 ones\n",
      "Bob's key contains\t 8 zeroes and 8 ones\n",
      "Oscar's key contains\t 8 zeroes and 8 ones\n",
      "Alice's Key:\t 0101000011101111\n",
      "Bob's Key:\t 0101101000101110\n",
      "Oscar's Key:\t 0101101100101100\n"
     ]
    }
   ],
   "source": [
    "alice_key = ''\n",
    "bob_key = ''\n",
    "oscar_key = ''\n",
    "for i in range(num_qubits):\n",
    "    if alice_basis[i] == bob_basis[i]: # Only choose bits where Alice and Bob chose the same basis\n",
    "        alice_key += str(alice_state[i])\n",
    "        bob_key += str(temp_key[i])\n",
    "        oscar_key += str(oscar_result[i])\n",
    "print(f\"The length of the key is {len(bob_key)}\")\n",
    "print(f\"Alice's key contains\\t {(alice_key).count('0')} zeroes and {(alice_key).count('1')} ones\")\n",
    "print(f\"Bob's key contains\\t {(bob_key).count('0')} zeroes and {(bob_key).count('1')} ones\")\n",
    "print(f\"Oscar's key contains\\t {(oscar_key).count('0')} zeroes and {(oscar_key).count('1')} ones\")\n",
    "print(f\"Alice's Key:\\t {alice_key}\")\n",
    "print(f\"Bob's Key:\\t {bob_key}\")\n",
    "print(f\"Oscar's Key:\\t {oscar_key}\")"
   ]
  }
 ],
 "metadata": {
  "colab": {
   "collapsed_sections": [],
   "name": "BB84_eve.ipynb",
   "provenance": [
    {
     "file_id": "14CCMaBh4CeKJkcB1NChZNvzZn2oFt59G",
     "timestamp": 1558122890656
    }
   ],
   "version": "0.3.2"
  },
  "kernelspec": {
   "display_name": "Python 3",
   "language": "python",
   "name": "python3"
  },
  "language_info": {
   "codemirror_mode": {
    "name": "ipython",
    "version": 3
   },
   "file_extension": ".py",
   "mimetype": "text/x-python",
   "name": "python",
   "nbconvert_exporter": "python",
   "pygments_lexer": "ipython3",
   "version": "3.8.3"
  }
 },
 "nbformat": 4,
 "nbformat_minor": 4
}
