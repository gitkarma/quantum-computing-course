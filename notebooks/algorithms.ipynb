{
 "cells": [
  {
   "cell_type": "markdown",
   "metadata": {},
   "source": [
    "# Quantum Algorithms using Qiskit"
   ]
  },
  {
   "cell_type": "code",
   "execution_count": 1,
   "metadata": {},
   "outputs": [],
   "source": [
    "%matplotlib inline\n",
    "import numpy as np\n",
    "import matplotlib.pyplot as plt\n",
    "from matplotlib import cm\n",
    "# Importing standard Qiskit libraries and configuring account\n",
    "from qiskit import QuantumCircuit, execute\n",
    "from qiskit.providers.aer import QasmSimulator, StatevectorSimulator\n",
    "from qiskit.visualization import *\n",
    "from qiskit.quantum_info import *"
   ]
  },
  {
   "cell_type": "markdown",
   "metadata": {},
   "source": [
    "## The Hadamard operation on multiple qubits\n",
    "### Creating Equal Superpositions\n",
    "The $n$-qubit $|0_n\\rangle$ state denotes a state where all qubits are in the $|0\\rangle$ state. It is sometimes also written as $|0^{\\otimes n}\\rangle$. We've seen that the Hadamard transformation can create equal superposition states starting from the $|0\\rangle$ state. \n",
    "$$H|0\\rangle = \\frac{1}{\\sqrt{2}} (|0\\rangle +|1\\rangle)$$\n",
    "Similarly, the transformation $H\\otimes H \\equiv H^{\\otimes 2}$ can create a uniform superposition of all two-qubit basis states starting from the $|00\\rangle$ state.\n",
    "$$(H \\otimes H) |00\\rangle = \\frac{1}{\\sqrt{2}} (|0\\rangle +|1\\rangle) \\otimes \\frac{1}{\\sqrt{2}} (|0\\rangle +|1\\rangle) = \\frac{1}{2}(|00\\rangle+|01\\rangle+|10\\rangle+|11\\rangle)= \\frac{1}{2}(|0\\rangle+|1\\rangle+|2\\rangle+|3\\rangle)$$\n",
    "Thus, for the case of $n$ qubits, the operation $H^{\\otimes n}$ creates a uniform superposition of all $n$-qubit basis states starting from the $|0^{\\otimes n}\\rangle$ state.\n",
    "$$H^{\\otimes n}|0^{\\otimes n}\\rangle = \\frac{1}{2^{n/2}}\\sum\\limits_{i=0}^{2^n-1} |i\\rangle$$\n",
    "### Self-inversion of the Hadamard Transformation\n",
    "We already know that the $H$ gate is self-adjoint, which also means it is it's own inverse. It is easy to see that the Hadamard transformation on $n$ qubits also has the same property. For two qubits, \n",
    "$$ |00\\rangle \\xrightarrow{(H \\otimes H)} \\frac{1}{2}(|0\\rangle+|1\\rangle+|2\\rangle+|3\\rangle) \\xrightarrow{(H \\otimes H)} |00\\rangle $$\n",
    "In general, \n",
    "$$ |0^{\\otimes n}\\rangle \\xrightarrow{H^{\\otimes n}} \\frac{1}{2^{n/2}}\\sum\\limits_{i=0}^{2^n-1} |i\\rangle \\xrightarrow{H^{\\otimes n}} |0^{\\otimes n}\\rangle $$\n",
    "This is true for not only the $|00\\rangle$ state, but all states. For example, consider the two qubit state $|01\\rangle$\n",
    "$$ |01\\rangle \\xrightarrow{(H \\otimes H)} \\frac{1}{2}(|00\\rangle-|01\\rangle+|10\\rangle-|11\\rangle) \\xrightarrow{(H \\otimes H)} |01\\rangle $$\n",
    "### The effect of the Hadamard Transformation on general states\n",
    "The general effect of the Hadamard transformation on a general state $|x\\rangle$ is given as\n",
    "\n",
    "$$H^{\\otimes n}|x\\rangle = \\frac{1}{2^{n/2}}\\sum\\limits_{y=0}^{2^n-1}(-1)^{x\\cdot y}|y\\rangle$$\n",
    "where $x\\cdot y = x_0\\cdot y_0 \\oplus y = x_1\\cdot y_1 \\oplus \\cdots \\oplus x_{n-1}\\cdot y_{n-1}$\n",
    "\n",
    "So, the Hadamard transformation will take ONLY the uniform superpostion with no relative phases to the $|0^{\\otimes n}\\rangle$ state."
   ]
  },
  {
   "cell_type": "code",
   "execution_count": 49,
   "metadata": {},
   "outputs": [
    {
     "data": {
      "image/png": "[encoded data removed]",
      "text/plain": [
       "<Figure size 381.577x204.68 with 1 Axes>"
      ]
     },
     "execution_count": 49,
     "metadata": {},
     "output_type": "execute_result"
    }
   ],
   "source": [
    "qch = QuantumCircuit(3)\n",
    "# State Preparation\n",
    "qch.h(range(3))\n",
    "qch.barrier()\n",
    "qch.z(1)\n",
    "qch.barrier()\n",
    "# qch.h(range(3))\n",
    "qch.draw(output='mpl')"
   ]
  },
  {
   "cell_type": "code",
   "execution_count": 50,
   "metadata": {},
   "outputs": [
    {
     "data": {
      "text/plain": [
       "<BarContainer object of 8 artists>"
      ]
     },
     "execution_count": 50,
     "metadata": {},
     "output_type": "execute_result"
    },
    {
     "data": {
      "image/png": "[encoded data removed]",
      "text/plain": [
       "<Figure size 432x288 with 1 Axes>"
      ]
     },
     "metadata": {
      "needs_background": "light"
     },
     "output_type": "display_data"
    }
   ],
   "source": [
    "jobh = execute(qch.reverse_bits(), backend=StatevectorSimulator())\n",
    "sv = jobh.result().get_statevector()\n",
    "mods = np.absolute(sv)\n",
    "phases = np.angle(sv)\n",
    "colors = cm.brg(phases/(2*np.pi))\n",
    "plt.title('Statevector')\n",
    "plt.bar(range(8), mods, color=colors)"
   ]
  },
  {
   "cell_type": "markdown",
   "metadata": {},
   "source": [
    "## Oracles \n",
    "The action of a bit oracle is  $|x\\rangle|0\\rangle \\xrightarrow{U_f} |x\\rangle|f(x)\\rangle$.\n",
    "\n",
    "The action of a phase oracle is  $|x\\rangle|-\\rangle \\xrightarrow{U_f} (-1)^{f(x)}|x\\rangle|-\\rangle$.\n",
    "\n",
    "### 1-bit Boolean function Oracles\n",
    "Below are the truth tables for all four 1-bit Boolean functions. \n",
    "\n",
    "| x \t| $f_0$ \t| $f_1$ \t| $f_2$ \t| $f_3$ \t|\n",
    "|---\t|----------\t|----------\t|----------\t|----------\t|\n",
    "| 0 \t| 0        \t| 0        \t| 1        \t| 1        \t|\n",
    "| 1 \t| 0        \t| 1        \t| 0        \t| 1        \t|\n",
    "\n",
    "\n",
    "We will now make bit-oracles for each of these"
   ]
  },
  {
   "cell_type": "code",
   "execution_count": 4,
   "metadata": {},
   "outputs": [
    {
     "data": {
      "image/png": "[encoded data removed]",
      "text/plain": [
       "<Figure size 140.632x144.48 with 1 Axes>"
      ]
     },
     "execution_count": 4,
     "metadata": {},
     "output_type": "execute_result"
    }
   ],
   "source": [
    "f0_oracle = QuantumCircuit(2)\n",
    "f0_oracle.draw(output='mpl')"
   ]
  },
  {
   "cell_type": "code",
   "execution_count": 5,
   "metadata": {},
   "outputs": [
    {
     "data": {
      "image/png": "[encoded data removed]",
      "text/plain": [
       "<Figure size 200.832x144.48 with 1 Axes>"
      ]
     },
     "execution_count": 5,
     "metadata": {},
     "output_type": "execute_result"
    }
   ],
   "source": [
    "f1_oracle = QuantumCircuit(2)\n",
    "f1_oracle.cx(0,1)\n",
    "f1_oracle.draw(output='mpl')"
   ]
  },
  {
   "cell_type": "code",
   "execution_count": 6,
   "metadata": {},
   "outputs": [
    {
     "data": {
      "image/png": "[encoded data removed]",
      "text/plain": [
       "<Figure size 321.232x144.48 with 1 Axes>"
      ]
     },
     "execution_count": 6,
     "metadata": {},
     "output_type": "execute_result"
    }
   ],
   "source": [
    "f2_oracle = QuantumCircuit(2)\n",
    "f2_oracle.x(0)\n",
    "f2_oracle.cx(0,1)\n",
    "f2_oracle.x(0)\n",
    "f2_oracle.draw(output='mpl')"
   ]
  },
  {
   "cell_type": "code",
   "execution_count": 7,
   "metadata": {},
   "outputs": [
    {
     "data": {
      "image/png": "[encoded data removed]",
      "text/plain": [
       "<Figure size 200.832x144.48 with 1 Axes>"
      ]
     },
     "execution_count": 7,
     "metadata": {},
     "output_type": "execute_result"
    }
   ],
   "source": [
    "f3_oracle = QuantumCircuit(2)\n",
    "f3_oracle.x(1)\n",
    "f3_oracle.draw(output='mpl')"
   ]
  },
  {
   "cell_type": "markdown",
   "metadata": {},
   "source": [
    "# Deutsch Algorithm\n",
    "The action of a bit oracle is  $\\frac{1}{\\sqrt{2}}(|0\\rangle + |1\\rangle)\\otimes |0\\rangle \\xrightarrow{U_f} \\frac{1}{\\sqrt{2}}(|0\\rangle|f(0)\\rangle + |1\\rangle|f(1)\\rangle) $.\n",
    "\n",
    "The action of a phase oracle is  $\\frac{1}{\\sqrt{2}}(|0\\rangle + |1\\rangle)\\otimes |-\\rangle \\xrightarrow{U_f} \\frac{1}{\\sqrt{2}}((-1)^{f(0)}|0\\rangle + (-1)^{f(1)}|1\\rangle)\\otimes |-\\rangle $."
   ]
  },
  {
   "cell_type": "code",
   "execution_count": 37,
   "metadata": {},
   "outputs": [
    {
     "data": {
      "image/png": "[encoded data removed]",
      "text/plain": [
       "<Figure size 562.032x204.68 with 1 Axes>"
      ]
     },
     "execution_count": 37,
     "metadata": {},
     "output_type": "execute_result"
    }
   ],
   "source": [
    "qc_d = QuantumCircuit(2,1) # (num_qubits, num_bits)\n",
    "# last qubit in state |1>\n",
    "qc_d.x(1)\n",
    "# Hadamard everything before\n",
    "qc_d.h(range(2))\n",
    "qc_d.barrier()\n",
    "# Extend the citcuit with the oracle here\n",
    "qc_d.extend(f1_oracle)\n",
    "qc_d.barrier()\n",
    "# Hadamard everything after\n",
    "qc_d.h(range(2))\n",
    "# Measure all but the last qubit\n",
    "qc_d.measure(0,0)\n",
    "qc_d.draw(output='mpl')"
   ]
  },
  {
   "cell_type": "code",
   "execution_count": 38,
   "metadata": {},
   "outputs": [
    {
     "data": {
      "image/png": "[encoded data removed]",
      "text/plain": [
       "<Figure size 504x360 with 1 Axes>"
      ]
     },
     "execution_count": 38,
     "metadata": {},
     "output_type": "execute_result"
    }
   ],
   "source": [
    "job_d = execute(qc_d.reverse_bits(), backend=QasmSimulator(), shots=1024)\n",
    "plot_histogram(job_d.result().get_counts())"
   ]
  },
  {
   "cell_type": "markdown",
   "metadata": {},
   "source": [
    "# Deutsch-Jozsa Algorithm\n",
    "This is the multi-qubit generalisation of the Deutsch algorithm. The procedure is exactly the same as the Deutsch algorithm. \n",
    "\n",
    "$$\\left(\\frac{1}{2^{n/2}}\\sum\\limits_{x=0}^{2^n-1} |x\\rangle \\right) \\otimes |-\\rangle \\xrightarrow{U_f}\\left(\\frac{1}{2^{n/2}}\\sum\\limits_{x=0}^{2^n-1} (-1)^{f(x)}|x\\rangle \\right) \\otimes |-\\rangle $$\n",
    "\n",
    "The important underlying idea is that only the constant function imparts equal phase shifts to all the basis state componenents and hence the final Hadamard transformation will result in the $|0^{\\otimes n}\\rangle$\n",
    "## Two-bit Boolean function oracles\n",
    "Let us construct oracles for one constant function $f_c$ and one balanced function $f_b$. \n",
    "\n",
    "| $x_1$ \t| $x_0$ \t| $f_c$ \t| $f_b$ \t|\n",
    "|-------\t|-------\t|-------\t|-------\t|\n",
    "| 0     \t| 0     \t| 0     \t| 0     \t|\n",
    "| 0     \t| 1     \t| 0     \t| 1     \t|\n",
    "| 1     \t| 0     \t| 0     \t| 0     \t|\n",
    "| 1     \t| 1     \t| 0     \t| 1     \t|"
   ]
  },
  {
   "cell_type": "code",
   "execution_count": 10,
   "metadata": {},
   "outputs": [
    {
     "data": {
      "image/png": "[encoded data removed]",
      "text/plain": [
       "<Figure size 140.777x204.68 with 1 Axes>"
      ]
     },
     "execution_count": 10,
     "metadata": {},
     "output_type": "execute_result"
    }
   ],
   "source": [
    "fc_oracle = QuantumCircuit(3)\n",
    "fc_oracle.draw(output='mpl')"
   ]
  },
  {
   "cell_type": "code",
   "execution_count": 11,
   "metadata": {},
   "outputs": [
    {
     "data": {
      "image/png": "[encoded data removed]",
      "text/plain": [
       "<Figure size 200.977x204.68 with 1 Axes>"
      ]
     },
     "execution_count": 11,
     "metadata": {},
     "output_type": "execute_result"
    }
   ],
   "source": [
    "fb_oracle = QuantumCircuit(3)\n",
    "fb_oracle.cx(0,2)\n",
    "fb_oracle.draw(output='mpl')"
   ]
  },
  {
   "cell_type": "code",
   "execution_count": 45,
   "metadata": {},
   "outputs": [
    {
     "data": {
      "image/png": "[encoded data removed]",
      "text/plain": [
       "<Figure size 622.377x264.88 with 1 Axes>"
      ]
     },
     "execution_count": 45,
     "metadata": {},
     "output_type": "execute_result"
    }
   ],
   "source": [
    "qc_dj = QuantumCircuit(3,2) # (num_qubits, num_bits)\n",
    "# last qubit in state |1>\n",
    "qc_dj.x(2)\n",
    "# Hadamard everything before\n",
    "qc_dj.h(range(3))\n",
    "qc_dj.barrier()\n",
    "# Extend the citcuit with the oracle here\n",
    "qc_dj.extend(fb_oracle)\n",
    "qc_dj.barrier()\n",
    "# Hadamard everything after\n",
    "qc_dj.h(range(3))\n",
    "# Measure all but the last qubit\n",
    "qc_dj.measure([0,1],[0,1]) # ([list of qubits], [list of bits])\n",
    "qc_dj.draw(output='mpl')"
   ]
  },
  {
   "cell_type": "code",
   "execution_count": 46,
   "metadata": {},
   "outputs": [
    {
     "data": {
      "image/png": "[encoded data removed]",
      "text/plain": [
       "<Figure size 504x360 with 1 Axes>"
      ]
     },
     "execution_count": 46,
     "metadata": {},
     "output_type": "execute_result"
    }
   ],
   "source": [
    "job_dj = execute(qc_dj.reverse_bits(), backend=QasmSimulator(), shots=1024)\n",
    "plot_histogram(job_dj.result().get_counts())"
   ]
  }
 ],
 "metadata": {
  "kernelspec": {
   "display_name": "Python 3",
   "language": "python",
   "name": "python3"
  },
  "language_info": {
   "codemirror_mode": {
    "name": "ipython",
    "version": 3
   },
   "file_extension": ".py",
   "mimetype": "text/x-python",
   "name": "python",
   "nbconvert_exporter": "python",
   "pygments_lexer": "ipython3",
   "version": "3.8.3"
  }
 },
 "nbformat": 4,
 "nbformat_minor": 4
}
